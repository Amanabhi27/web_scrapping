{
 "cells": [
  {
   "cell_type": "code",
   "execution_count": 5,
   "id": "bdfcc1fb-4f20-4568-9f70-94b43d18fc77",
   "metadata": {},
   "outputs": [
    {
     "name": "stdout",
     "output_type": "stream",
     "text": [
      "Collecting bs4\n",
      "  Downloading bs4-0.0.2-py2.py3-none-any.whl.metadata (411 bytes)\n",
      "Requirement already satisfied: beautifulsoup4 in /opt/anaconda3/lib/python3.11/site-packages (from bs4) (4.12.2)\n",
      "Requirement already satisfied: soupsieve>1.2 in /opt/anaconda3/lib/python3.11/site-packages (from beautifulsoup4->bs4) (2.5)\n",
      "Downloading bs4-0.0.2-py2.py3-none-any.whl (1.2 kB)\n",
      "Installing collected packages: bs4\n",
      "Successfully installed bs4-0.0.2\n"
     ]
    }
   ],
   "source": [
    "!pip install bs4"
   ]
  },
  {
   "cell_type": "code",
   "execution_count": 6,
   "id": "92d7d668-c2e4-4b68-a3ef-220d82cb76a1",
   "metadata": {},
   "outputs": [
    {
     "name": "stdout",
     "output_type": "stream",
     "text": [
      "Requirement already satisfied: requests in /opt/anaconda3/lib/python3.11/site-packages (2.31.0)\n",
      "Requirement already satisfied: charset-normalizer<4,>=2 in /opt/anaconda3/lib/python3.11/site-packages (from requests) (2.0.4)\n",
      "Requirement already satisfied: idna<4,>=2.5 in /opt/anaconda3/lib/python3.11/site-packages (from requests) (3.4)\n",
      "Requirement already satisfied: urllib3<3,>=1.21.1 in /opt/anaconda3/lib/python3.11/site-packages (from requests) (2.0.7)\n",
      "Requirement already satisfied: certifi>=2017.4.17 in /opt/anaconda3/lib/python3.11/site-packages (from requests) (2024.2.2)\n"
     ]
    }
   ],
   "source": [
    "!pip install requests"
   ]
  },
  {
   "cell_type": "code",
   "execution_count": 9,
   "id": "a6971ba8-49ef-41a5-b9c4-c2ade9505356",
   "metadata": {},
   "outputs": [],
   "source": [
    "from bs4 import BeautifulSoup"
   ]
  },
  {
   "cell_type": "code",
   "execution_count": 10,
   "id": "7687cb1d-1af5-4503-bbd1-478990f18679",
   "metadata": {},
   "outputs": [],
   "source": [
    "import requests"
   ]
  },
  {
   "cell_type": "code",
   "execution_count": 11,
   "id": "d071be83-9da9-420e-9adf-a5249ba1bc3e",
   "metadata": {},
   "outputs": [],
   "source": [
    "import pandas as pd"
   ]
  },
  {
   "cell_type": "code",
   "execution_count": 12,
   "id": "b7306e4c-5134-47f9-8607-e955dc661abf",
   "metadata": {},
   "outputs": [],
   "source": [
    "URL=\"https://open.spotify.com/artist/1mYsTxnqsietFxj1OgoGbG\""
   ]
  },
  {
   "cell_type": "code",
   "execution_count": 16,
   "id": "6cd4a8bb-4b70-4040-be10-4d9607bf4149",
   "metadata": {
    "scrolled": true
   },
   "outputs": [
    {
     "name": "stdout",
     "output_type": "stream",
     "text": [
      "BQDNiyono7dawYfe4Iii8TzIfAn87FdAe_jHAXShbnVGhyNZauAv0nwJnmu0_iAlQU_-Z73XCgpgMxxrsc0YUjHzsu1oV0knFtcq3g1AXD6OmX11P8I\n"
     ]
    }
   ],
   "source": [
    "import requests\n",
    "import base64\n",
    "\n",
    "def get_access_token(client_id, client_secret):\n",
    "    auth_url = 'https://accounts.spotify.com/api/token'\n",
    "    auth_header = base64.b64encode((client_id + ':' + client_secret).encode('ascii')).decode('ascii')\n",
    "    headers = {\n",
    "        'Authorization': 'Basic ' + auth_header,\n",
    "        'Content-Type': 'application/x-www-form-urlencoded'\n",
    "    }\n",
    "    data = {\n",
    "        'grant_type': 'client_credentials'\n",
    "    }\n",
    "    response = requests.post(auth_url, headers=headers, data=data)\n",
    "    \n",
    "    # Add debug logging\n",
    "    if response.status_code != 200:\n",
    "        print(\"Error:\", response.status_code)\n",
    "        print(\"Response:\", response.text)\n",
    "        raise Exception('Failed to obtain access token')\n",
    "\n",
    "    return response.json()['access_token']\n",
    "\n",
    "client_id = '82d1d4ae2ba14c15ab3e4b6f6dac673a'\n",
    "client_secret = '76fc10155b3240a3a22de479c9a223d6'\n",
    "access_token = get_access_token(client_id, client_secret)\n",
    "print(access_token)\n",
    "\n"
   ]
  },
  {
   "cell_type": "code",
   "execution_count": 24,
   "id": "faa5d323-e8d3-468a-ab96-91c790ee5cbc",
   "metadata": {},
   "outputs": [
    {
     "name": "stdout",
     "output_type": "stream",
     "text": [
      "Artist information saved to 'artists_info.csv'\n"
     ]
    }
   ],
   "source": [
    "import requests\n",
    "import base64\n",
    "import csv\n",
    "\n",
    "def get_access_token(client_id, client_secret):\n",
    "    auth_url = 'https://accounts.spotify.com/api/token'\n",
    "    auth_header = base64.b64encode((client_id + ':' + client_secret).encode('ascii')).decode('ascii')\n",
    "    headers = {\n",
    "        'Authorization': 'Basic ' + auth_header,\n",
    "        'Content-Type': 'application/x-www-form-urlencoded'\n",
    "    }\n",
    "    data = {\n",
    "        'grant_type': 'client_credentials'\n",
    "    }\n",
    "    response = requests.post(auth_url, headers=headers, data=data)\n",
    "    \n",
    "    # Add debug logging\n",
    "    if response.status_code != 200:\n",
    "        print(\"Error:\", response.status_code)\n",
    "        print(\"Response:\", response.text)\n",
    "        raise Exception('Failed to obtain access token')\n",
    "\n",
    "    return response.json()['access_token']\n",
    "\n",
    "def get_artist_info(artist_name, access_token):\n",
    "    search_url = 'https://api.spotify.com/v1/search'\n",
    "    headers = {\n",
    "        'Authorization': 'Bearer ' + access_token\n",
    "    }\n",
    "    params = {\n",
    "        'q': artist_name,\n",
    "        'type': 'artist',\n",
    "        'limit': 1\n",
    "    }\n",
    "    response = requests.get(search_url, headers=headers, params=params)\n",
    "    if response.status_code == 200:\n",
    "        artist_data = response.json()\n",
    "        if artist_data['artists']['items']:\n",
    "            artist = artist_data['artists']['items'][0]\n",
    "            artist_info = {\n",
    "                'name': artist['name'],\n",
    "                'followers': artist['followers']['total'],\n",
    "                'popularity': artist['popularity'],\n",
    "                'spotify_url': artist['external_urls']['spotify']\n",
    "            }\n",
    "            return artist_info\n",
    "        else:\n",
    "            return None\n",
    "    else:\n",
    "        print(\"Error:\", response.status_code)\n",
    "        print(\"Response:\", response.text)\n",
    "        raise Exception('Failed to search for artist')\n",
    "\n",
    "def save_artists_info_to_csv(artists_info, filename='artists_info.csv'):\n",
    "    with open(filename, mode='w', newline='', encoding='utf-8') as file:\n",
    "        writer = csv.writer(file)\n",
    "        writer.writerow(['Name', 'Followers','Popularity', 'Spotify URL'])\n",
    "        for artist_info in artists_info:\n",
    "            writer.writerow([\n",
    "                artist_info['name'],\n",
    "                artist_info['followers'],\n",
    "                artist_info['popularity'],\n",
    "                artist_info['spotify_url']\n",
    "            ])\n",
    "\n",
    "client_id = '82d1d4ae2ba14c15ab3e4b6f6dac673a'\n",
    "client_secret = '76fc10155b3240a3a22de479c9a223d6'\n",
    "access_token = get_access_token(client_id, client_secret)\n",
    "\n",
    "\n",
    "artist_names = ['A.R. Rahman','Anirudh Ravichander', 'Santosh Narayanan','Harris Jayaraj','Dhee','Sid Sriram','Ilaiyaraaja','Yuvan Shankar Raja']\n",
    "\n",
    "artists_info = []\n",
    "for artist_name in artist_names:\n",
    "    artist_info = get_artist_info(artist_name, access_token)\n",
    "    if artist_info:\n",
    "        artists_info.append(artist_info)\n",
    "    else:\n",
    "        print(f\"No information found for artist '{artist_name}'\")\n",
    "\n",
    "if artists_info:\n",
    "    save_artists_info_to_csv(artists_info)\n",
    "    print(f\"Artist information saved to 'artists_info.csv'\")\n",
    "else:\n",
    "    print(\"No artist information was found to save.\")\n"
   ]
  },
  {
   "cell_type": "code",
   "execution_count": 2,
   "id": "96abda25-f597-4b09-83f4-4a5a2592ace5",
   "metadata": {},
   "outputs": [],
   "source": [
    "#Predict follower count or popularity scores based on numerical features.\n",
    "import pandas as pd\n",
    "import numpy as np\n",
    "import matplotlib.pyplot as plt\n",
    "from sklearn.model_selection import train_test_split\n",
    "from sklearn.linear_model import LinearRegression"
   ]
  },
  {
   "cell_type": "code",
   "execution_count": 3,
   "id": "b8665ee6-b435-4c91-9d35-80762b82a6bd",
   "metadata": {},
   "outputs": [],
   "source": [
    "data = pd.read_csv('artists_info.csv')"
   ]
  },
  {
   "cell_type": "code",
   "execution_count": 6,
   "id": "7dcbd504-50d7-4e2a-a388-78bb1b9b194a",
   "metadata": {},
   "outputs": [],
   "source": [
    "X=data[['Followers']]\n",
    "y=data[['Popularity']]"
   ]
  },
  {
   "cell_type": "code",
   "execution_count": 8,
   "id": "025170cf-d9f4-4da2-9818-d648ed796d6b",
   "metadata": {},
   "outputs": [],
   "source": [
    "X_train,X_test,y_train,y_test = train_test_split(X,y,test_size=0.2,random_state=0)"
   ]
  },
  {
   "cell_type": "code",
   "execution_count": 9,
   "id": "370a6bcd-9291-428f-992a-eb994bfe1cb0",
   "metadata": {},
   "outputs": [],
   "source": [
    "model=LinearRegression()"
   ]
  },
  {
   "cell_type": "code",
   "execution_count": 10,
   "id": "f7d0b21c-a933-4440-9c6f-3db4c2be5a46",
   "metadata": {},
   "outputs": [
    {
     "data": {
      "text/html": [
       "<style>#sk-container-id-1 {color: black;background-color: white;}#sk-container-id-1 pre{padding: 0;}#sk-container-id-1 div.sk-toggleable {background-color: white;}#sk-container-id-1 label.sk-toggleable__label {cursor: pointer;display: block;width: 100%;margin-bottom: 0;padding: 0.3em;box-sizing: border-box;text-align: center;}#sk-container-id-1 label.sk-toggleable__label-arrow:before {content: \"▸\";float: left;margin-right: 0.25em;color: #696969;}#sk-container-id-1 label.sk-toggleable__label-arrow:hover:before {color: black;}#sk-container-id-1 div.sk-estimator:hover label.sk-toggleable__label-arrow:before {color: black;}#sk-container-id-1 div.sk-toggleable__content {max-height: 0;max-width: 0;overflow: hidden;text-align: left;background-color: #f0f8ff;}#sk-container-id-1 div.sk-toggleable__content pre {margin: 0.2em;color: black;border-radius: 0.25em;background-color: #f0f8ff;}#sk-container-id-1 input.sk-toggleable__control:checked~div.sk-toggleable__content {max-height: 200px;max-width: 100%;overflow: auto;}#sk-container-id-1 input.sk-toggleable__control:checked~label.sk-toggleable__label-arrow:before {content: \"▾\";}#sk-container-id-1 div.sk-estimator input.sk-toggleable__control:checked~label.sk-toggleable__label {background-color: #d4ebff;}#sk-container-id-1 div.sk-label input.sk-toggleable__control:checked~label.sk-toggleable__label {background-color: #d4ebff;}#sk-container-id-1 input.sk-hidden--visually {border: 0;clip: rect(1px 1px 1px 1px);clip: rect(1px, 1px, 1px, 1px);height: 1px;margin: -1px;overflow: hidden;padding: 0;position: absolute;width: 1px;}#sk-container-id-1 div.sk-estimator {font-family: monospace;background-color: #f0f8ff;border: 1px dotted black;border-radius: 0.25em;box-sizing: border-box;margin-bottom: 0.5em;}#sk-container-id-1 div.sk-estimator:hover {background-color: #d4ebff;}#sk-container-id-1 div.sk-parallel-item::after {content: \"\";width: 100%;border-bottom: 1px solid gray;flex-grow: 1;}#sk-container-id-1 div.sk-label:hover label.sk-toggleable__label {background-color: #d4ebff;}#sk-container-id-1 div.sk-serial::before {content: \"\";position: absolute;border-left: 1px solid gray;box-sizing: border-box;top: 0;bottom: 0;left: 50%;z-index: 0;}#sk-container-id-1 div.sk-serial {display: flex;flex-direction: column;align-items: center;background-color: white;padding-right: 0.2em;padding-left: 0.2em;position: relative;}#sk-container-id-1 div.sk-item {position: relative;z-index: 1;}#sk-container-id-1 div.sk-parallel {display: flex;align-items: stretch;justify-content: center;background-color: white;position: relative;}#sk-container-id-1 div.sk-item::before, #sk-container-id-1 div.sk-parallel-item::before {content: \"\";position: absolute;border-left: 1px solid gray;box-sizing: border-box;top: 0;bottom: 0;left: 50%;z-index: -1;}#sk-container-id-1 div.sk-parallel-item {display: flex;flex-direction: column;z-index: 1;position: relative;background-color: white;}#sk-container-id-1 div.sk-parallel-item:first-child::after {align-self: flex-end;width: 50%;}#sk-container-id-1 div.sk-parallel-item:last-child::after {align-self: flex-start;width: 50%;}#sk-container-id-1 div.sk-parallel-item:only-child::after {width: 0;}#sk-container-id-1 div.sk-dashed-wrapped {border: 1px dashed gray;margin: 0 0.4em 0.5em 0.4em;box-sizing: border-box;padding-bottom: 0.4em;background-color: white;}#sk-container-id-1 div.sk-label label {font-family: monospace;font-weight: bold;display: inline-block;line-height: 1.2em;}#sk-container-id-1 div.sk-label-container {text-align: center;}#sk-container-id-1 div.sk-container {/* jupyter's `normalize.less` sets `[hidden] { display: none; }` but bootstrap.min.css set `[hidden] { display: none !important; }` so we also need the `!important` here to be able to override the default hidden behavior on the sphinx rendered scikit-learn.org. See: https://github.com/scikit-learn/scikit-learn/issues/21755 */display: inline-block !important;position: relative;}#sk-container-id-1 div.sk-text-repr-fallback {display: none;}</style><div id=\"sk-container-id-1\" class=\"sk-top-container\"><div class=\"sk-text-repr-fallback\"><pre>LinearRegression()</pre><b>In a Jupyter environment, please rerun this cell to show the HTML representation or trust the notebook. <br />On GitHub, the HTML representation is unable to render, please try loading this page with nbviewer.org.</b></div><div class=\"sk-container\" hidden><div class=\"sk-item\"><div class=\"sk-estimator sk-toggleable\"><input class=\"sk-toggleable__control sk-hidden--visually\" id=\"sk-estimator-id-1\" type=\"checkbox\" checked><label for=\"sk-estimator-id-1\" class=\"sk-toggleable__label sk-toggleable__label-arrow\">LinearRegression</label><div class=\"sk-toggleable__content\"><pre>LinearRegression()</pre></div></div></div></div></div>"
      ],
      "text/plain": [
       "LinearRegression()"
      ]
     },
     "execution_count": 10,
     "metadata": {},
     "output_type": "execute_result"
    }
   ],
   "source": [
    "model.fit(X_train,y_train)"
   ]
  },
  {
   "cell_type": "code",
   "execution_count": 11,
   "id": "dec0158e-3936-4c09-a11b-ecbd7397db10",
   "metadata": {},
   "outputs": [],
   "source": [
    "y_pred = model.predict(X_test)"
   ]
  },
  {
   "cell_type": "code",
   "execution_count": 12,
   "id": "3424687e-8fe1-4345-810f-93b4216c81eb",
   "metadata": {},
   "outputs": [
    {
     "name": "stdout",
     "output_type": "stream",
     "text": [
      "[[71.46399073]\n",
      " [67.99629171]]\n"
     ]
    }
   ],
   "source": [
    "print(y_pred)"
   ]
  },
  {
   "cell_type": "code",
   "execution_count": 16,
   "id": "69fe20b4-f2cb-4129-b7f7-7ca9425351c2",
   "metadata": {},
   "outputs": [
    {
     "data": {
      "image/png": "[encoded data removed]",
      "text/plain": [
       "<Figure size 640x480 with 1 Axes>"
      ]
     },
     "metadata": {},
     "output_type": "display_data"
    }
   ],
   "source": [
    "plt.scatter(X_test,y_test, color=\"blue\")\n",
    "plt.plot(X_test,y_test,color=\"black\")\n",
    "plt.xlabel('followers')\n",
    "plt.ylabel('popularity')\n",
    "plt.title('linear regression')\n",
    "plt.grid()"
   ]
  },
  {
   "cell_type": "code",
   "execution_count": null,
   "id": "533111b2-2bc2-4374-a990-6deeb3f22207",
   "metadata": {},
   "outputs": [],
   "source": []
  }
 ],
 "metadata": {
  "kernelspec": {
   "display_name": "Python 3 (ipykernel)",
   "language": "python",
   "name": "python3"
  },
  "language_info": {
   "codemirror_mode": {
    "name": "ipython",
    "version": 3
   },
   "file_extension": ".py",
   "mimetype": "text/x-python",
   "name": "python",
   "nbconvert_exporter": "python",
   "pygments_lexer": "ipython3",
   "version": "3.11.7"
  }
 },
 "nbformat": 4,
 "nbformat_minor": 5
}
